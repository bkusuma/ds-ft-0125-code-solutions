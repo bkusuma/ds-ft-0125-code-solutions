{
 "cells": [
  {
   "cell_type": "code",
   "execution_count": 7,
   "metadata": {},
   "outputs": [
    {
     "name": "stdout",
     "output_type": "stream",
     "text": [
      "How old are you??\n"
     ]
    },
    {
     "data": {
      "text/plain": [
       "26"
      ]
     },
     "execution_count": 7,
     "metadata": {},
     "output_type": "execute_result"
    }
   ],
   "source": [
    "# Name: how_old\n",
    "# Purpose: to calculate the age of a person based on the person's date of birth\n",
    "# Inputs:   1. user inputted year as int\n",
    "#           2. user inputted month as int\n",
    "#           3. user inputted day as int\n",
    "# Outputs:  1. int of the age of a person\n",
    "# Side effects: none\n",
    "\n",
    "import datetime as dt\n",
    "\n",
    "def how_old():\n",
    "    print(\"How old are you??\")\n",
    "    user_year = int(input(\"Enter 4 digits for your birth year: \")) # user enters birth year\n",
    "    user_month = int(input(\"Enter 2 digits for your birth month: \")) # user enters birth month\n",
    "    user_day = int(input(\"Enter 2 digits for your birth day: \")) # user enters birth day\n",
    "\n",
    "    timedelta_from_birth = dt.date.today() - dt.date(user_year, user_month, user_day) # calculate timedelta from birth to today\n",
    "    days_from_birth = timedelta_from_birth.days # get days since birth\n",
    "    age = days_from_birth // 365 # floor divide by number of days in a year to get number of years aka age\n",
    "    return age\n",
    "\n",
    "how_old()\n"
   ]
  }
 ],
 "metadata": {
  "kernelspec": {
   "display_name": ".venv",
   "language": "python",
   "name": "python3"
  },
  "language_info": {
   "codemirror_mode": {
    "name": "ipython",
    "version": 3
   },
   "file_extension": ".py",
   "mimetype": "text/x-python",
   "name": "python",
   "nbconvert_exporter": "python",
   "pygments_lexer": "ipython3",
   "version": "3.9.6"
  }
 },
 "nbformat": 4,
 "nbformat_minor": 2
}
