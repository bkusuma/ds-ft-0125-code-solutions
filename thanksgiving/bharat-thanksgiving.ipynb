{
 "cells": [
  {
   "cell_type": "code",
   "execution_count": 23,
   "metadata": {},
   "outputs": [
    {
     "name": "stdout",
     "output_type": "stream",
     "text": [
      "There are 294 days until Thanksgiving!\n"
     ]
    }
   ],
   "source": [
    "import datetime as dt\n",
    "\n",
    "timedelta_until_tgivs = dt.date(2025, 11, 27)-dt.date.today() # calculate the timedelta between November 27, 2025 (Thanksgiving Day) and today\n",
    "days_until_tgivs = timedelta_until_tgivs.days # call the attribute \"days\" from the timedelta\n",
    "\n",
    "print(f\"There are {days_until_tgivs} days until Thanksgiving!\")"
   ]
  }
 ],
 "metadata": {
  "kernelspec": {
   "display_name": ".venv",
   "language": "python",
   "name": "python3"
  },
  "language_info": {
   "codemirror_mode": {
    "name": "ipython",
    "version": 3
   },
   "file_extension": ".py",
   "mimetype": "text/x-python",
   "name": "python",
   "nbconvert_exporter": "python",
   "pygments_lexer": "ipython3",
   "version": "3.9.6"
  }
 },
 "nbformat": 4,
 "nbformat_minor": 2
}
