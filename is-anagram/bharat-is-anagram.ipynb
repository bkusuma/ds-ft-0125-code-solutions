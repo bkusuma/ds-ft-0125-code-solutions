{
 "cells": [
  {
   "cell_type": "code",
   "execution_count": 15,
   "metadata": {},
   "outputs": [
    {
     "name": "stdout",
     "output_type": "stream",
     "text": [
      "True\n",
      "False\n"
     ]
    }
   ],
   "source": [
    "def is_anagram(str_1, str_2):\n",
    "    if len(str_1) != len(str_2):\n",
    "        return False\n",
    "    else:\n",
    "        matches = 0\n",
    "        lis_1 = list(str_1)\n",
    "        lis_2 = list(str_2)\n",
    "        for i in range(len(lis_1)):\n",
    "            letter = lis_1[i]\n",
    "            if letter in lis_2:\n",
    "                elmnt = lis_1[i]\n",
    "                lis_2.remove(elmnt)\n",
    "                matches += 1\n",
    "        if len(lis_1) == matches:\n",
    "            return True\n",
    "        else:\n",
    "            return False\n",
    "        \n",
    "print(is_anagram(\"cautioned\", \"education\"))\n",
    "print(is_anagram(\"cat\", \"rat\"))"
   ]
  },
  {
   "cell_type": "code",
   "execution_count": null,
   "metadata": {},
   "outputs": [],
   "source": []
  }
 ],
 "metadata": {
  "kernelspec": {
   "display_name": ".venv",
   "language": "python",
   "name": "python3"
  },
  "language_info": {
   "codemirror_mode": {
    "name": "ipython",
    "version": 3
   },
   "file_extension": ".py",
   "mimetype": "text/x-python",
   "name": "python",
   "nbconvert_exporter": "python",
   "pygments_lexer": "ipython3",
   "version": "3.9.6"
  }
 },
 "nbformat": 4,
 "nbformat_minor": 2
}
