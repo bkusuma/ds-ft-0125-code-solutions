{
 "cells": [
  {
   "cell_type": "code",
   "execution_count": 45,
   "metadata": {},
   "outputs": [],
   "source": [
    "import datetime as dt\n",
    "import pytz\n",
    "time_zone_list = list(pytz.all_timezones)"
   ]
  },
  {
   "cell_type": "code",
   "execution_count": 58,
   "metadata": {},
   "outputs": [
    {
     "name": "stdout",
     "output_type": "stream",
     "text": [
      "1. The parsed version of custom datetime format 03/23/21 is 2021-03-23 00:00:00\n",
      "2. The parsed version of custom datetime format 23/03/2021 is 2021-03-23 00:00:00\n",
      "3. The parsed version of custom datetime format March 23rd, 2021 13:01 is 2021-03-23 13:01:00-07:00\n",
      "4. The parsed version of custom datetime format 1:01pm 23rd March, 2021 is 2021-03-23 20:01:00+00:00\n",
      "5. The parsed version of custom datetime format 1616482800 is 2021-03-23 00:00:00\n",
      "6. The parsed version of custom datetime format 2021-03-23T12:00:53.034-07:00 is 2021-03-23 12:00:53.034000-07:00\n"
     ]
    }
   ],
   "source": [
    "test_1 = \"03/23/21\"\n",
    "parsed_test_1 = dt.datetime.strptime(test_1, \"%m/%d/%y\")\n",
    "print(f\"1. The parsed version of custom datetime format {test_1} is {parsed_test_1}\")\n",
    "\n",
    "test_2 = \"23/03/2021\"\n",
    "parsed_test_2 = dt.datetime.strptime(test_2, \"%d/%m/%Y\")\n",
    "print(f\"2. The parsed version of custom datetime format {test_2} is {parsed_test_2}\")\n",
    "\n",
    "test_3 = \"March 23rd, 2021 13:01 US/Pacific\"\n",
    "separator = \" \"\n",
    "split_test_3 = test_3.split(sep=separator)\n",
    "for thing in split_test_3:\n",
    "    if thing in time_zone_list:\n",
    "        time_zone = pytz.timezone(thing)\n",
    "        split_test_3.remove(thing)\n",
    "        test_3 = separator.join(split_test_3)\n",
    "try:\n",
    "    parsed_test_3 = dt.datetime.strptime(test_3, \"%B %dst, %Y %H:%M\").astimezone(time_zone)\n",
    "except:\n",
    "    try:\n",
    "        parsed_test_3 = dt.datetime.strptime(test_3, \"%B %dnd, %Y %H:%M\").astimezone(time_zone)\n",
    "    except:\n",
    "        try:\n",
    "            parsed_test_3 = dt.datetime.strptime(test_3, \"%B %drd, %Y %H:%M\").astimezone(time_zone)\n",
    "        except:\n",
    "            try:\n",
    "                parsed_test_3 = dt.datetime.strptime(test_3, \"%B %dth, %Y %H:%M\").astimezone(time_zone)\n",
    "            except:\n",
    "                pass\n",
    "print(f\"3. The parsed version of custom datetime format {test_3} is {parsed_test_3}\")\n",
    "\n",
    "test_4 = \"1:01pm 23rd March, 2021 Europe/London\"\n",
    "separator = \" \"\n",
    "split_test_4 = test_4.split(sep=separator)\n",
    "for thing in split_test_4:\n",
    "    if thing in time_zone_list:\n",
    "        time_zone = pytz.timezone(thing)\n",
    "        split_test_4.remove(thing)\n",
    "        test_4 = separator.join(split_test_4)\n",
    "\n",
    "for ordinal in [\"st\", \"nd\", \"rd\", \"th\"]:\n",
    "    try:\n",
    "     parsed_test_4 = dt.datetime.strptime(test_4, \"%I:%M%p %d{ordinal} %B, %Y\").astimezone(time_zone)\n",
    "    except:\n",
    "        pass\n",
    "print(f\"4. The parsed version of custom datetime format {test_4} is {parsed_test_4}\")\n",
    "\n",
    "test_5 = \"1616482800\"\n",
    "parsed_test_5 = dt.datetime.fromtimestamp(int(test_5))\n",
    "print(f\"5. The parsed version of custom datetime format {test_5} is {parsed_test_5}\")\n",
    "\n",
    "test_6 = \"2021-03-23T12:00:53.034-07:00\"\n",
    "parsed_test_6 = dt.datetime.fromisoformat(test_6)\n",
    "print(f\"6. The parsed version of custom datetime format {test_6} is {parsed_test_6}\")\n"
   ]
  },
  {
   "cell_type": "code",
   "execution_count": null,
   "metadata": {},
   "outputs": [],
   "source": []
  }
 ],
 "metadata": {
  "kernelspec": {
   "display_name": ".venv",
   "language": "python",
   "name": "python3"
  },
  "language_info": {
   "codemirror_mode": {
    "name": "ipython",
    "version": 3
   },
   "file_extension": ".py",
   "mimetype": "text/x-python",
   "name": "python",
   "nbconvert_exporter": "python",
   "pygments_lexer": "ipython3",
   "version": "3.9.6"
  }
 },
 "nbformat": 4,
 "nbformat_minor": 2
}
