{
 "cells": [
  {
   "cell_type": "code",
   "execution_count": null,
   "metadata": {},
   "outputs": [],
   "source": [
    "import pandas as pd\n",
    "import sqlite3"
   ]
  },
  {
   "cell_type": "code",
   "execution_count": null,
   "metadata": {},
   "outputs": [],
   "source": [
    "conn = sqlite3.connect(\"stocks.sqlite\") # connect to database"
   ]
  },
  {
   "cell_type": "code",
   "execution_count": null,
   "metadata": {},
   "outputs": [],
   "source": [
    "q = \"\"\"\n",
    "SELECT name\n",
    "FROM sqlite_master\n",
    "WHERE type='table';\n",
    "\"\"\"\n",
    "# create query to find tables in database\n",
    "\n",
    "pd.read_sql(q, conn)"
   ]
  },
  {
   "cell_type": "code",
   "execution_count": null,
   "metadata": {},
   "outputs": [],
   "source": [
    "q_STOCK_DATA = \"\"\"\n",
    "SELECT *\n",
    "FROM STOCK_DATA;\n",
    "\"\"\"\n",
    "# reading STOCK_DATA table\n",
    "\n",
    "pd.read_sql(q_STOCK_DATA, conn)"
   ]
  },
  {
   "cell_type": "code",
   "execution_count": null,
   "metadata": {},
   "outputs": [],
   "source": [
    "# find data types to create new table\n",
    "pd.read_sql(q_STOCK_DATA, conn).info()"
   ]
  },
  {
   "cell_type": "markdown",
   "metadata": {},
   "source": [
    "# Create two new tables in the database (stocks.sqlite), one with only 'MSFT' values for the Symbol feature, and one with only 'AAPL' values for the Symbol feature."
   ]
  },
  {
   "cell_type": "code",
   "execution_count": null,
   "metadata": {},
   "outputs": [],
   "source": [
    "q_MSFT_TABLE = \"\"\"\n",
    "CREATE TABLE MSFT_TABLE\n",
    "\t('index' INT, Date TEXT, Open REAL, High REAL, Low REAL, Close REAL, Volume INT, 'Adj Close' REAL, Symbol VARCHAR(20));\n",
    "\"\"\"\n",
    "# create empty table for MSFT data\n",
    "\n",
    "pd.read_sql(q_MSFT_TABLE, conn)\n",
    "\n",
    "# Alternate execution method 1:\n",
    "# with conn:\n",
    "# \tconn.execute(q_MSFT_TABLE)\n",
    "\n",
    "# Alternate execution method 2:\n",
    "# cur = conn.cursor()\n",
    "# cur.execute(q_MSFT_TABLE)"
   ]
  },
  {
   "cell_type": "code",
   "execution_count": null,
   "metadata": {},
   "outputs": [],
   "source": [
    "q_MSFT_INSERT = \"\"\"\n",
    "INSERT INTO MSFT_TABLE\n",
    "\t('index', Date, Open, High, Low, Close, Volume, 'Adj Close', Symbol)\n",
    "SELECT *\n",
    "\tFROM STOCK_DATA\n",
    "\tWHERE Symbol = 'MSFT';\n",
    "\"\"\"\n",
    "# insert MSFT values into table\n",
    "\n",
    "pd.read_sql(q_MSFT_INSERT, conn)\n",
    "\n",
    "# Alternate method:\n",
    "# CREATE TABLE MSFT_TABLE AS\n",
    "# SELECT *\n",
    "# FROM STOCK_DATA\n",
    "# WHERE Symbol = 'MSFT';"
   ]
  },
  {
   "cell_type": "code",
   "execution_count": null,
   "metadata": {},
   "outputs": [],
   "source": [
    "q_AAPL_TABLE = \"\"\"\n",
    "CREATE TABLE AAPL_TABLE\n",
    "\t('index' INT, Date TEXT, Open REAL, High REAL, Low REAL, Close REAL, Volume INT, 'Adj Close' REAL, Symbol VARCHAR(20))\n",
    "\"\"\"\n",
    "# create empty table for AAPL data\n",
    "\n",
    "pd.read_sql_query(q_AAPL_TABLE, conn)"
   ]
  },
  {
   "cell_type": "code",
   "execution_count": null,
   "metadata": {},
   "outputs": [],
   "source": [
    "q_AAPL_INSERT = \"\"\"\n",
    "INSERT INTO AAPL_TABLE\n",
    "\t('index', Date, Open, High, Low, Close, Volume, 'Adj Close', Symbol)\n",
    "SELECT *\n",
    "\tFROM STOCK_DATA\n",
    "\tWHERE Symbol = 'AAPL';\n",
    "\"\"\"\n",
    "# insert AAPL values into table\n",
    "\n",
    "pd.read_sql(q_AAPL_INSERT, conn)"
   ]
  },
  {
   "cell_type": "markdown",
   "metadata": {},
   "source": [
    "# Read the two new new tables in from the database using SQL to check if they were successfully created."
   ]
  },
  {
   "cell_type": "code",
   "execution_count": null,
   "metadata": {},
   "outputs": [],
   "source": [
    "q_MSFT_SHOW = \"\"\"\n",
    "SELECT *\n",
    "FROM MSFT_TABLE;\n",
    "\"\"\"\n",
    "# show MSFT_TABLE\n",
    "\n",
    "pd.read_sql(q_MSFT_SHOW, conn)"
   ]
  },
  {
   "cell_type": "code",
   "execution_count": null,
   "metadata": {},
   "outputs": [],
   "source": [
    "q_AAPL_SHOW = \"\"\"\n",
    "SELECT *\n",
    "FROM AAPL_TABLE;\n",
    "\"\"\"\n",
    "# show AAPL_TABLE\n",
    "\n",
    "pd.read_sql(q_AAPL_SHOW, conn)"
   ]
  },
  {
   "cell_type": "markdown",
   "metadata": {},
   "source": [
    "# For each new table in the database, query for rows containing the Maximum and Minimum dates, and save those rows as new pandas data frames (2 rows per dataframe)."
   ]
  },
  {
   "cell_type": "code",
   "execution_count": null,
   "metadata": {},
   "outputs": [],
   "source": [
    "q_MSFT_DATES = \"\"\"\n",
    "SELECT MAX(Date), MIN(Date)\n",
    "FROM MSFT_TABLE;\n",
    "\"\"\"\n",
    "# show MSFT_TABLE Maximum and Minimum dates\n",
    "\n",
    "df_MSFT_DATES = pd.read_sql(q_MSFT_DATES, conn).T\n",
    "df_MSFT_DATES"
   ]
  },
  {
   "cell_type": "code",
   "execution_count": null,
   "metadata": {},
   "outputs": [],
   "source": [
    "q_AAPL_DATES = \"\"\"\n",
    "SELECT MAX(Date), MIN(Date)\n",
    "FROM AAPL_TABLE;\n",
    "\"\"\"\n",
    "# show AAPL_TABLE Maximum and Minimum dates\n",
    "\n",
    "df_AAPL_DATES = pd.read_sql(q_AAPL_DATES, conn).T\n",
    "df_AAPL_DATES"
   ]
  },
  {
   "cell_type": "markdown",
   "metadata": {},
   "source": [
    "# For each new table in the database, query for values greater than 50 in the Open feature, and save those as new pandas data frames."
   ]
  },
  {
   "cell_type": "code",
   "execution_count": null,
   "metadata": {},
   "outputs": [],
   "source": [
    "q_MSFT_OPEN50 = \"\"\"\n",
    "SELECT *\n",
    "FROM MSFT_TABLE\n",
    "WHERE Open > 50;\n",
    "\"\"\"\n",
    "# MSFT_TABLE query for values greater than 50 in the Open feature\n",
    "\n",
    "df_MSFT_OPEN50 = pd.read_sql(q_MSFT_OPEN50, conn)\n",
    "df_MSFT_OPEN50"
   ]
  },
  {
   "cell_type": "code",
   "execution_count": null,
   "metadata": {},
   "outputs": [],
   "source": [
    "q_AAPL_OPEN50 = \"\"\"\n",
    "SELECT *\n",
    "FROM AAPL_TABLE\n",
    "WHERE Open > 50;\n",
    "\"\"\"\n",
    "# AAPL_TABLE query for values greater than 50 in the Open feature\n",
    "\n",
    "df_AAPL_OPEN50 = pd.read_sql(q_AAPL_OPEN50, conn)\n",
    "df_AAPL_OPEN50"
   ]
  }
 ],
 "metadata": {
  "kernelspec": {
   "display_name": ".venv",
   "language": "python",
   "name": "python3"
  },
  "language_info": {
   "codemirror_mode": {
    "name": "ipython",
    "version": 3
   },
   "file_extension": ".py",
   "mimetype": "text/x-python",
   "name": "python",
   "nbconvert_exporter": "python",
   "pygments_lexer": "ipython3",
   "version": "3.9.6"
  }
 },
 "nbformat": 4,
 "nbformat_minor": 2
}
