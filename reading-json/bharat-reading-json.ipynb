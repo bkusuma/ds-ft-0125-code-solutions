{
 "cells": [
  {
   "cell_type": "markdown",
   "metadata": {},
   "source": [
    "Read the json_file.txt file and print the values. The expected output should look like this: image\n",
    "\n"
   ]
  },
  {
   "cell_type": "code",
   "execution_count": 19,
   "metadata": {},
   "outputs": [
    {
     "name": "stdout",
     "output_type": "stream",
     "text": [
      "   id      name                  sports\n",
      "0   1  Zia Khan   [Ice Hockey, Cricket]\n",
      "1   2  Dennis T  [Football, Basketball]\n"
     ]
    }
   ],
   "source": [
    "import pandas as pd\n",
    "\n",
    "daily_covid_cases_txt = pd.read_json(\"json_file.txt\")\n",
    "print(daily_covid_cases_txt)"
   ]
  },
  {
   "cell_type": "markdown",
   "metadata": {},
   "source": [
    "Read the daily_covid_cases.json file and print the values. The expected output should look like this: image"
   ]
  },
  {
   "cell_type": "code",
   "execution_count": 20,
   "metadata": {},
   "outputs": [
    {
     "name": "stdout",
     "output_type": "stream",
     "text": [
      "                                                                meta  \\\n",
      "build_time                                  2021-05-10T23:47:33.898Z   \n",
      "license                                                    CC-BY-4.0   \n",
      "version                                                     2.0-beta   \n",
      "field_definitions  [{'name': 'Total test results', 'field': 'test...   \n",
      "date                                                             NaN   \n",
      "states                                                           NaN   \n",
      "cases                                                            NaN   \n",
      "testing                                                          NaN   \n",
      "outcomes                                                         NaN   \n",
      "\n",
      "                                                                data  \n",
      "build_time                                                       NaN  \n",
      "license                                                          NaN  \n",
      "version                                                          NaN  \n",
      "field_definitions                                                NaN  \n",
      "date                                                      2021-01-02  \n",
      "states                                                            56  \n",
      "cases              {'total': {'value': 20327598, 'calculated': {'...  \n",
      "testing            {'total': {'value': 257729806, 'calculated': {...  \n",
      "outcomes           {'hospitalized': {'currently': {'value': 12361...  \n"
     ]
    }
   ],
   "source": [
    "daily_covid_cases_json = pd.read_json(\"daily_covid_cases.json\")\n",
    "print(daily_covid_cases_json)"
   ]
  },
  {
   "cell_type": "code",
   "execution_count": null,
   "metadata": {},
   "outputs": [],
   "source": []
  }
 ],
 "metadata": {
  "kernelspec": {
   "display_name": ".venv",
   "language": "python",
   "name": "python3"
  },
  "language_info": {
   "codemirror_mode": {
    "name": "ipython",
    "version": 3
   },
   "file_extension": ".py",
   "mimetype": "text/x-python",
   "name": "python",
   "nbconvert_exporter": "python",
   "pygments_lexer": "ipython3",
   "version": "3.9.6"
  }
 },
 "nbformat": 4,
 "nbformat_minor": 2
}
