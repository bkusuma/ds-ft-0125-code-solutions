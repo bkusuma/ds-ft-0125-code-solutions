{
 "cells": [
  {
   "cell_type": "code",
   "execution_count": 27,
   "metadata": {},
   "outputs": [
    {
     "name": "stdout",
     "output_type": "stream",
     "text": [
      "4A3B2C1D3A\n"
     ]
    }
   ],
   "source": [
    "# Name: letters_to_symbols\n",
    "# Purpose: encode  string so that the amount of letters will be represented by a number and the letter\n",
    "# Inputs:   1. take one parameter, a string named ‘s’\n",
    "# Outputs:  1. encoded string\n",
    "# Side effects: none\n",
    "\n",
    "def letters_to_symbols(s):\n",
    "    output_string = \"\" # initialize output string\n",
    "    previous_letter = s[0] # initialize letter\n",
    "    counter = 0 # initialize counter\n",
    "    for letter in s: # loop over letters in input string\n",
    "        if previous_letter == letter: # increase counter of same letter\n",
    "            counter += 1\n",
    "        else:\n",
    "            output_string = output_string + str(counter) + previous_letter # add count of letters and letter to output string\n",
    "            previous_letter = letter\n",
    "            counter = 1\n",
    "    output_string = output_string + str(counter) + previous_letter # capture final letter(s) that won't go through loop\n",
    "\n",
    "    return output_string\n",
    "\n",
    "s = \"AAAABBBCCDAAA\"\n",
    "\n",
    "print(letters_to_symbols(s))"
   ]
  }
 ],
 "metadata": {
  "kernelspec": {
   "display_name": ".venv",
   "language": "python",
   "name": "python3"
  },
  "language_info": {
   "codemirror_mode": {
    "name": "ipython",
    "version": 3
   },
   "file_extension": ".py",
   "mimetype": "text/x-python",
   "name": "python",
   "nbconvert_exporter": "python",
   "pygments_lexer": "ipython3",
   "version": "3.9.6"
  }
 },
 "nbformat": 4,
 "nbformat_minor": 2
}
