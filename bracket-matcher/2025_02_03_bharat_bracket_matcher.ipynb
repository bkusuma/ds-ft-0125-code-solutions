{
  "cells": [
    {
      "cell_type": "code",
      "execution_count": 20,
      "metadata": {
        "colab": {
          "base_uri": "https://localhost:8080/"
        },
        "id": "gqN5uchlcCVd",
        "outputId": "84ef2538-7c2b-40dd-e1c7-8761c01665d4"
      },
      "outputs": [
        {
          "data": {
            "text/plain": [
              "False"
            ]
          },
          "execution_count": 20,
          "metadata": {},
          "output_type": "execute_result"
        }
      ],
      "source": [
        "def BracketMatcher(s):\n",
        "  if s.count(\"(\") != s.count(\")\"):\n",
        "    return False\n",
        "  elif s.count(\"(\") == 1 and s.count(\")\") == 1:\n",
        "    return True\n",
        "  else:\n",
        "    for character in s:\n",
        "      if character == \"(\":\n",
        "        left_index = s.index(character)\n",
        "        truncated_string = s[left_index + 1:len(s)]\n",
        "        for character in truncated_string:\n",
        "          if character == \")\":\n",
        "            right_index = truncated_string.index(character)\n",
        "            left_part = truncated_string[0:right_index]\n",
        "            right_part = truncated_string[right_index + 1:]\n",
        "            s = left_part + right_part\n",
        "          else:\n",
        "            return True\n",
        "\n",
        "s = \"(a((kl(mns)t)uvwz)\"\n",
        "\n",
        "BracketMatcher(s)"
      ]
    }
  ],
  "metadata": {
    "colab": {
      "provenance": []
    },
    "kernelspec": {
      "display_name": ".venv",
      "language": "python",
      "name": "python3"
    },
    "language_info": {
      "codemirror_mode": {
        "name": "ipython",
        "version": 3
      },
      "file_extension": ".py",
      "mimetype": "text/x-python",
      "name": "python",
      "nbconvert_exporter": "python",
      "pygments_lexer": "ipython3",
      "version": "3.9.6"
    }
  },
  "nbformat": 4,
  "nbformat_minor": 0
}
